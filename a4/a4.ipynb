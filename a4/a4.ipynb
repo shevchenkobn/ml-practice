{
 "cells": [
  {
   "cell_type": "markdown",
   "source": [
    "# Assignment4-R\n",
    "\n",
    "# 1 Assignment 4 - Classification\n",
    "\n",
    "# 1.1 Overview of the steps\n",
    "\n",
    "1. Load the data and get an overview of the data\n",
    "2. Perform a logistic regression\n",
    "3. Use the logistic regression models\n",
    "4. Perform an LDA\n",
    "5. Use the LDA regression model\n",
    "6. Perform an QDA\n",
    "7. Use the QDA regression model\n",
    "8. Use $k$-Nearest Neighbors (KNN)\n",
    "\n",
    "# 1.2 Steps in detail\n",
    "\n",
    "## 1.2.1 Load the data and get an overview of the data\n",
    "\n",
    "Load the data file `Smarket.rda` or `Smarket.csv`.\n",
    "\n",
    "This data set consists of percentage returns for a stock index over 1, 250 days. For each date, it contains the percentage returns for each of the five previous trading days, `Lag1` through `Lag5`. It also contains `Volume` (the number of shares traded on the previous day, in billions), `Today` (the percentage return on the date in question) and `Direction` (whether the market was Up or Down on this date)."
   ],
   "metadata": {
    "collapsed": false
   }
  },
  {
   "cell_type": "code",
   "execution_count": 2,
   "metadata": {
    "collapsed": true,
    "pycharm": {
     "name": "#%%\n"
    }
   },
   "outputs": [
    {
     "name": "stderr",
     "output_type": "stream",
     "text": [
      "/home/bogdan/lnu/4dv660/ml-practice/venv/lib/python3.8/site-packages/statsmodels/compat/pandas.py:65: FutureWarning: pandas.Int64Index is deprecated and will be removed from pandas in a future version. Use pandas.Index with the appropriate dtype instead.\n",
      "  from pandas import Int64Index as NumericIndex\n"
     ]
    }
   ],
   "source": [
    "import pandas as pd\n",
    "from IPython.display import display, Markdown\n",
    "import numpy as np\n",
    "import matplotlib.pyplot as plt\n",
    "%matplotlib notebook\n",
    "import statsmodels.api as sm\n",
    "from statsmodels.formula.api import ols\n",
    "import scipy\n",
    "import seaborn as sns\n",
    "default_figsize=(8, 6)\n",
    "\n",
    "\n",
    "# TODO: check if up-to-date on moodle and FutureWarning\n",
    "boston_df = pd.read_csv('../ISLR/data/Smarket.csv', index_col=[0])"
   ]
  },
  {
   "cell_type": "code",
   "execution_count": null,
   "outputs": [],
   "source": [],
   "metadata": {
    "collapsed": false,
    "pycharm": {
     "name": "#%%\n"
    }
   }
  }
 ],
 "metadata": {
  "kernelspec": {
   "display_name": "Python 3",
   "language": "python",
   "name": "python3"
  },
  "language_info": {
   "codemirror_mode": {
    "name": "ipython",
    "version": 2
   },
   "file_extension": ".py",
   "mimetype": "text/x-python",
   "name": "python",
   "nbconvert_exporter": "python",
   "pygments_lexer": "ipython2",
   "version": "2.7.6"
  }
 },
 "nbformat": 4,
 "nbformat_minor": 0
}