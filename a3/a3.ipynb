{
 "cells": [
  {
   "cell_type": "markdown",
   "metadata": {},
   "source": [
    "# Assignment2+3-R\n",
    "\n",
    "# Assignments 2+3 - Simple and Multiple Linear Regression (I+II)\n",
    "\n",
    "# Overview of the steps\n",
    "\n",
    "- Assignment 2:\n",
    "1. Load the data and get an overview of the data\n",
    "2. Perform simple linear regressions\n",
    "3. Use the simple linear regression models\n",
    "4. Perform multiple linear regressions\n",
    "5. Use the multiple linear regression model\n",
    "- Assignment 3:\n",
    "6. Add interaction terms\n",
    "7. Apply non-linear transformations to some predictors\n",
    "8. Use qualitative predictors\n",
    "\n",
    "# 1.2 Steps of Assignment 2 in detail\n",
    "\n",
    "## 1.2.1 Load the data and get an overview of the data\n",
    "\n",
    "Load the data file `Boston.csv`."
   ]
  },
  {
   "cell_type": "code",
   "execution_count": 30,
   "metadata": {},
   "outputs": [],
   "source": [
    "\n",
    "import pandas as pd\n",
    "from IPython.display import display, Markdown\n",
    "import numpy as np\n",
    "import matplotlib.pyplot as plt\n",
    "%matplotlib notebook\n",
    "import statsmodels.api as sm\n",
    "from statsmodels.formula.api import ols\n",
    "import scipy\n",
    "import seaborn as sns\n",
    "default_figsize=(8, 6)\n",
    "\n",
    "\n",
    "boston_df = pd.read_csv('../ISLR/data/Boston.csv', index_col=[0])"
   ]
  },
  {
   "cell_type": "markdown",
   "metadata": {},
   "source": [
    "Display the number of predictors (including the response medv) and their names:"
   ]
  },
  {
   "cell_type": "code",
   "execution_count": 31,
   "metadata": {
    "pycharm": {
     "name": "#%%\n"
    }
   },
   "outputs": [
    {
     "name": "stdout",
     "output_type": "stream",
     "text": [
      "14\n",
      "Index(['crim', 'zn', 'indus', 'chas', 'nox', 'rm', 'age', 'dis', 'rad', 'tax',\n",
      "       'ptratio', 'black', 'lstat', 'medv'],\n",
      "      dtype='object')\n"
     ]
    }
   ],
   "source": [
    "print(len(boston_df.columns))\n",
    "print(boston_df.columns)"
   ]
  },
  {
   "cell_type": "markdown",
   "metadata": {},
   "source": [
    "Print a statistic summary of the predictors and the response `medv`:"
   ]
  },
  {
   "cell_type": "code",
   "execution_count": 32,
   "metadata": {
    "pycharm": {
     "name": "#%%\n"
    }
   },
   "outputs": [
    {
     "data": {
      "text/plain": "             crim          zn       indus        chas         nox          rm  \\\ncount  506.000000  506.000000  506.000000  506.000000  506.000000  506.000000   \nmean     3.613524   11.363636   11.136779    0.069170    0.554695    6.284634   \nstd      8.601545   23.322453    6.860353    0.253994    0.115878    0.702617   \nmin      0.006320    0.000000    0.460000    0.000000    0.385000    3.561000   \n25%      0.082045    0.000000    5.190000    0.000000    0.449000    5.885500   \n50%      0.256510    0.000000    9.690000    0.000000    0.538000    6.208500   \n75%      3.677083   12.500000   18.100000    0.000000    0.624000    6.623500   \nmax     88.976200  100.000000   27.740000    1.000000    0.871000    8.780000   \n\n              age         dis         rad         tax     ptratio       black  \\\ncount  506.000000  506.000000  506.000000  506.000000  506.000000  506.000000   \nmean    68.574901    3.795043    9.549407  408.237154   18.455534  356.674032   \nstd     28.148861    2.105710    8.707259  168.537116    2.164946   91.294864   \nmin      2.900000    1.129600    1.000000  187.000000   12.600000    0.320000   \n25%     45.025000    2.100175    4.000000  279.000000   17.400000  375.377500   \n50%     77.500000    3.207450    5.000000  330.000000   19.050000  391.440000   \n75%     94.075000    5.188425   24.000000  666.000000   20.200000  396.225000   \nmax    100.000000   12.126500   24.000000  711.000000   22.000000  396.900000   \n\n            lstat        medv  \ncount  506.000000  506.000000  \nmean    12.653063   22.532806  \nstd      7.141062    9.197104  \nmin      1.730000    5.000000  \n25%      6.950000   17.025000  \n50%     11.360000   21.200000  \n75%     16.955000   25.000000  \nmax     37.970000   50.000000  ",
      "text/html": "<div>\n<style scoped>\n    .dataframe tbody tr th:only-of-type {\n        vertical-align: middle;\n    }\n\n    .dataframe tbody tr th {\n        vertical-align: top;\n    }\n\n    .dataframe thead th {\n        text-align: right;\n    }\n</style>\n<table border=\"1\" class=\"dataframe\">\n  <thead>\n    <tr style=\"text-align: right;\">\n      <th></th>\n      <th>crim</th>\n      <th>zn</th>\n      <th>indus</th>\n      <th>chas</th>\n      <th>nox</th>\n      <th>rm</th>\n      <th>age</th>\n      <th>dis</th>\n      <th>rad</th>\n      <th>tax</th>\n      <th>ptratio</th>\n      <th>black</th>\n      <th>lstat</th>\n      <th>medv</th>\n    </tr>\n  </thead>\n  <tbody>\n    <tr>\n      <th>count</th>\n      <td>506.000000</td>\n      <td>506.000000</td>\n      <td>506.000000</td>\n      <td>506.000000</td>\n      <td>506.000000</td>\n      <td>506.000000</td>\n      <td>506.000000</td>\n      <td>506.000000</td>\n      <td>506.000000</td>\n      <td>506.000000</td>\n      <td>506.000000</td>\n      <td>506.000000</td>\n      <td>506.000000</td>\n      <td>506.000000</td>\n    </tr>\n    <tr>\n      <th>mean</th>\n      <td>3.613524</td>\n      <td>11.363636</td>\n      <td>11.136779</td>\n      <td>0.069170</td>\n      <td>0.554695</td>\n      <td>6.284634</td>\n      <td>68.574901</td>\n      <td>3.795043</td>\n      <td>9.549407</td>\n      <td>408.237154</td>\n      <td>18.455534</td>\n      <td>356.674032</td>\n      <td>12.653063</td>\n      <td>22.532806</td>\n    </tr>\n    <tr>\n      <th>std</th>\n      <td>8.601545</td>\n      <td>23.322453</td>\n      <td>6.860353</td>\n      <td>0.253994</td>\n      <td>0.115878</td>\n      <td>0.702617</td>\n      <td>28.148861</td>\n      <td>2.105710</td>\n      <td>8.707259</td>\n      <td>168.537116</td>\n      <td>2.164946</td>\n      <td>91.294864</td>\n      <td>7.141062</td>\n      <td>9.197104</td>\n    </tr>\n    <tr>\n      <th>min</th>\n      <td>0.006320</td>\n      <td>0.000000</td>\n      <td>0.460000</td>\n      <td>0.000000</td>\n      <td>0.385000</td>\n      <td>3.561000</td>\n      <td>2.900000</td>\n      <td>1.129600</td>\n      <td>1.000000</td>\n      <td>187.000000</td>\n      <td>12.600000</td>\n      <td>0.320000</td>\n      <td>1.730000</td>\n      <td>5.000000</td>\n    </tr>\n    <tr>\n      <th>25%</th>\n      <td>0.082045</td>\n      <td>0.000000</td>\n      <td>5.190000</td>\n      <td>0.000000</td>\n      <td>0.449000</td>\n      <td>5.885500</td>\n      <td>45.025000</td>\n      <td>2.100175</td>\n      <td>4.000000</td>\n      <td>279.000000</td>\n      <td>17.400000</td>\n      <td>375.377500</td>\n      <td>6.950000</td>\n      <td>17.025000</td>\n    </tr>\n    <tr>\n      <th>50%</th>\n      <td>0.256510</td>\n      <td>0.000000</td>\n      <td>9.690000</td>\n      <td>0.000000</td>\n      <td>0.538000</td>\n      <td>6.208500</td>\n      <td>77.500000</td>\n      <td>3.207450</td>\n      <td>5.000000</td>\n      <td>330.000000</td>\n      <td>19.050000</td>\n      <td>391.440000</td>\n      <td>11.360000</td>\n      <td>21.200000</td>\n    </tr>\n    <tr>\n      <th>75%</th>\n      <td>3.677083</td>\n      <td>12.500000</td>\n      <td>18.100000</td>\n      <td>0.000000</td>\n      <td>0.624000</td>\n      <td>6.623500</td>\n      <td>94.075000</td>\n      <td>5.188425</td>\n      <td>24.000000</td>\n      <td>666.000000</td>\n      <td>20.200000</td>\n      <td>396.225000</td>\n      <td>16.955000</td>\n      <td>25.000000</td>\n    </tr>\n    <tr>\n      <th>max</th>\n      <td>88.976200</td>\n      <td>100.000000</td>\n      <td>27.740000</td>\n      <td>1.000000</td>\n      <td>0.871000</td>\n      <td>8.780000</td>\n      <td>100.000000</td>\n      <td>12.126500</td>\n      <td>24.000000</td>\n      <td>711.000000</td>\n      <td>22.000000</td>\n      <td>396.900000</td>\n      <td>37.970000</td>\n      <td>50.000000</td>\n    </tr>\n  </tbody>\n</table>\n</div>"
     },
     "execution_count": 32,
     "metadata": {},
     "output_type": "execute_result"
    }
   ],
   "source": [
    "boston_df.describe(include='all')"
   ]
  },
  {
   "cell_type": "markdown",
   "metadata": {},
   "source": [
    "Display the number of data points:"
   ]
  },
  {
   "cell_type": "code",
   "execution_count": 33,
   "metadata": {
    "pycharm": {
     "name": "#%%\n"
    }
   },
   "outputs": [
    {
     "data": {
      "text/plain": "506"
     },
     "execution_count": 33,
     "metadata": {},
     "output_type": "execute_result"
    }
   ],
   "source": [
    "len(boston_df)"
   ]
  },
  {
   "cell_type": "markdown",
   "metadata": {},
   "source": [
    "Display the data in a table:\n",
    "\n",
    "> Top 20 rows are shown."
   ]
  },
  {
   "cell_type": "code",
   "execution_count": 34,
   "metadata": {
    "pycharm": {
     "name": "#%%\n"
    }
   },
   "outputs": [
    {
     "name": "stdout",
     "output_type": "stream",
     "text": [
      "<class 'pandas.core.frame.DataFrame'>\n",
      "Int64Index: 506 entries, 1 to 506\n",
      "Data columns (total 14 columns):\n",
      " #   Column   Non-Null Count  Dtype  \n",
      "---  ------   --------------  -----  \n",
      " 0   crim     506 non-null    float64\n",
      " 1   zn       506 non-null    float64\n",
      " 2   indus    506 non-null    float64\n",
      " 3   chas     506 non-null    int64  \n",
      " 4   nox      506 non-null    float64\n",
      " 5   rm       506 non-null    float64\n",
      " 6   age      506 non-null    float64\n",
      " 7   dis      506 non-null    float64\n",
      " 8   rad      506 non-null    int64  \n",
      " 9   tax      506 non-null    int64  \n",
      " 10  ptratio  506 non-null    float64\n",
      " 11  black    506 non-null    float64\n",
      " 12  lstat    506 non-null    float64\n",
      " 13  medv     506 non-null    float64\n",
      "dtypes: float64(11), int64(3)\n",
      "memory usage: 59.3 KB\n"
     ]
    },
    {
     "data": {
      "text/plain": "None"
     },
     "metadata": {},
     "output_type": "display_data"
    }
   ],
   "source": [
    "n = 20\n",
    "display(boston_df.info(verbose=True))\n",
    "display(boston_df.head(n))"
   ]
  },
  {
   "cell_type": "markdown",
   "metadata": {},
   "source": [
    "Plot some predictors (at least two) against the response values. We choose `lstat`, `rm`, and `age`."
   ]
  },
  {
   "cell_type": "code",
   "execution_count": 35,
   "metadata": {
    "pycharm": {
     "name": "#%%\n"
    }
   },
   "outputs": [
    {
     "data": {
      "text/plain": "<IPython.core.display.Markdown object>",
      "text/markdown": "### Significance level: 0.05"
     },
     "metadata": {},
     "output_type": "display_data"
    }
   ],
   "source": [
    "default_alpha = .05\n",
    "display(Markdown(f'### Significance level: {default_alpha}'))\n",
    "\n",
    "def fit_lr(x, y):\n",
    "    X = sm.add_constant(x)\n",
    "    return sm.OLS(y, X).fit()\n",
    "\n",
    "def plot(x, y, xlab, ylab, mod_fit=None, alpha=default_alpha):\n",
    "    fig, ax = plt.subplots(figsize=default_figsize)\n",
    "    ax.plot(x, y, 'yo')\n",
    "    if mod_fit:\n",
    "        X = sm.add_constant(x)\n",
    "        regr = mod_fit.predict(X)\n",
    "        ax.plot(x, regr, 'k')\n",
    "        prediction = mod_fit.get_prediction(X)\n",
    "        frame = prediction.summary_frame(alpha=alpha)\n",
    "        zipped = pd.concat([x, frame.mean_ci_lower, frame.mean_ci_upper], axis=1)\n",
    "        zipped.sort_values(x.name, inplace=True)\n",
    "        ax.fill_between(zipped[x.name], zipped[frame.mean_ci_lower.name], zipped[frame.mean_ci_upper.name], color='k', alpha=.3)\n",
    "    ax.set_xlabel(xlab)\n",
    "    ax.set_ylabel(ylab)\n",
    "    fig.show()\n",
    "\n",
    "def format_pearsonr(values):\n",
    "    return f'R = {values[0]}, p < {values[1]}'\n",
    "\n",
    "def fit_lr_plot_full(x, y, xlab, ylab):\n",
    "    mod_fit = fit_lr(x, y)\n",
    "    print(format_pearsonr(scipy.stats.pearsonr(x, y)))\n",
    "    plot(x, y, xlab, ylab, mod_fit)\n",
    "    return mod_fit"
   ]
  },
  {
   "cell_type": "code",
   "execution_count": 36,
   "metadata": {
    "pycharm": {
     "name": "#%%\n"
    }
   },
   "outputs": [
    {
     "name": "stdout",
     "output_type": "stream",
     "text": [
      "R = -0.737662726174015, p < 5.081103394386392e-88\n"
     ]
    }
   ],
   "source": [
    "lstat_mod_fit = fit_lr_plot_full(boston_df['lstat'], boston_df['medv'], 'percent of households with low socioeconomic status', 'median house value')"
   ]
  },
  {
   "cell_type": "code",
   "execution_count": 37,
   "metadata": {
    "pycharm": {
     "name": "#%%\n"
    }
   },
   "outputs": [
    {
     "name": "stdout",
     "output_type": "stream",
     "text": [
      "R = 0.6953599470715394, p < 2.4872288710071593e-74\n"
     ]
    }
   ],
   "source": [
    "rm_mod_fit = fit_lr_plot_full(boston_df['rm'], boston_df['medv'], 'average number of rooms per house', 'median house value')"
   ]
  },
  {
   "cell_type": "code",
   "execution_count": 38,
   "metadata": {
    "pycharm": {
     "name": "#%%\n"
    }
   },
   "outputs": [
    {
     "name": "stdout",
     "output_type": "stream",
     "text": [
      "R = -0.3769545650045963, p < 1.5699822091877261e-18\n"
     ]
    }
   ],
   "source": [
    "age_mod_fit = fit_lr_plot_full(boston_df['age'], boston_df['medv'], 'average age of houses', 'median house value')"
   ]
  },
  {
   "cell_type": "markdown",
   "metadata": {},
   "source": [
    "## 1.2.2 Perform simple linear regressions\n",
    "Fit a simple linear regression model, with `medv` as the response and some (at least two) predictors\n",
    "individually. We choose `lstat`, `rm`, and `age`."
   ]
  },
  {
   "cell_type": "code",
   "execution_count": 39,
   "metadata": {
    "pycharm": {
     "name": "#%%\n"
    }
   },
   "outputs": [],
   "source": [
    "def print_lr(mod_fit):\n",
    "    print(mod_fit.summary())\n",
    "    print('Residuals:', mod_fit.resid.describe())"
   ]
  },
  {
   "cell_type": "code",
   "execution_count": 40,
   "metadata": {
    "pycharm": {
     "name": "#%%\n"
    }
   },
   "outputs": [
    {
     "name": "stdout",
     "output_type": "stream",
     "text": [
      "                            OLS Regression Results                            \n",
      "==============================================================================\n",
      "Dep. Variable:                   medv   R-squared:                       0.544\n",
      "Model:                            OLS   Adj. R-squared:                  0.543\n",
      "Method:                 Least Squares   F-statistic:                     601.6\n",
      "Date:                Mon, 21 Feb 2022   Prob (F-statistic):           5.08e-88\n",
      "Time:                        12:28:56   Log-Likelihood:                -1641.5\n",
      "No. Observations:                 506   AIC:                             3287.\n",
      "Df Residuals:                     504   BIC:                             3295.\n",
      "Df Model:                           1                                         \n",
      "Covariance Type:            nonrobust                                         \n",
      "==============================================================================\n",
      "                 coef    std err          t      P>|t|      [0.025      0.975]\n",
      "------------------------------------------------------------------------------\n",
      "const         34.5538      0.563     61.415      0.000      33.448      35.659\n",
      "lstat         -0.9500      0.039    -24.528      0.000      -1.026      -0.874\n",
      "==============================================================================\n",
      "Omnibus:                      137.043   Durbin-Watson:                   0.892\n",
      "Prob(Omnibus):                  0.000   Jarque-Bera (JB):              291.373\n",
      "Skew:                           1.453   Prob(JB):                     5.36e-64\n",
      "Kurtosis:                       5.319   Cond. No.                         29.7\n",
      "==============================================================================\n",
      "\n",
      "Notes:\n",
      "[1] Standard Errors assume that the covariance matrix of the errors is correctly specified.\n",
      "Residuals: count    5.060000e+02\n",
      "mean     3.521821e-14\n",
      "std      6.209603e+00\n",
      "min     -1.516745e+01\n",
      "25%     -3.989612e+00\n",
      "50%     -1.318186e+00\n",
      "75%      2.033701e+00\n",
      "max      2.450013e+01\n",
      "dtype: float64\n"
     ]
    }
   ],
   "source": [
    "print_lr(lstat_mod_fit)"
   ]
  },
  {
   "cell_type": "code",
   "execution_count": 41,
   "metadata": {
    "pycharm": {
     "name": "#%%\n"
    }
   },
   "outputs": [
    {
     "name": "stdout",
     "output_type": "stream",
     "text": [
      "                            OLS Regression Results                            \n",
      "==============================================================================\n",
      "Dep. Variable:                   medv   R-squared:                       0.484\n",
      "Model:                            OLS   Adj. R-squared:                  0.483\n",
      "Method:                 Least Squares   F-statistic:                     471.8\n",
      "Date:                Mon, 21 Feb 2022   Prob (F-statistic):           2.49e-74\n",
      "Time:                        12:28:56   Log-Likelihood:                -1673.1\n",
      "No. Observations:                 506   AIC:                             3350.\n",
      "Df Residuals:                     504   BIC:                             3359.\n",
      "Df Model:                           1                                         \n",
      "Covariance Type:            nonrobust                                         \n",
      "==============================================================================\n",
      "                 coef    std err          t      P>|t|      [0.025      0.975]\n",
      "------------------------------------------------------------------------------\n",
      "const        -34.6706      2.650    -13.084      0.000     -39.877     -29.465\n",
      "rm             9.1021      0.419     21.722      0.000       8.279       9.925\n",
      "==============================================================================\n",
      "Omnibus:                      102.585   Durbin-Watson:                   0.684\n",
      "Prob(Omnibus):                  0.000   Jarque-Bera (JB):              612.449\n",
      "Skew:                           0.726   Prob(JB):                    1.02e-133\n",
      "Kurtosis:                       8.190   Cond. No.                         58.4\n",
      "==============================================================================\n",
      "\n",
      "Notes:\n",
      "[1] Standard Errors assume that the covariance matrix of the errors is correctly specified.\n",
      "Residuals: count    5.060000e+02\n",
      "mean     2.359114e-14\n",
      "std      6.609606e+00\n",
      "min     -2.334590e+01\n",
      "25%     -2.547477e+00\n",
      "50%      8.976267e-02\n",
      "75%      2.985532e+00\n",
      "max      3.943314e+01\n",
      "dtype: float64\n"
     ]
    }
   ],
   "source": [
    "print_lr(rm_mod_fit)"
   ]
  },
  {
   "cell_type": "code",
   "execution_count": 42,
   "metadata": {
    "pycharm": {
     "name": "#%%\n"
    }
   },
   "outputs": [
    {
     "name": "stdout",
     "output_type": "stream",
     "text": [
      "                            OLS Regression Results                            \n",
      "==============================================================================\n",
      "Dep. Variable:                   medv   R-squared:                       0.142\n",
      "Model:                            OLS   Adj. R-squared:                  0.140\n",
      "Method:                 Least Squares   F-statistic:                     83.48\n",
      "Date:                Mon, 21 Feb 2022   Prob (F-statistic):           1.57e-18\n",
      "Time:                        12:28:56   Log-Likelihood:                -1801.5\n",
      "No. Observations:                 506   AIC:                             3607.\n",
      "Df Residuals:                     504   BIC:                             3615.\n",
      "Df Model:                           1                                         \n",
      "Covariance Type:            nonrobust                                         \n",
      "==============================================================================\n",
      "                 coef    std err          t      P>|t|      [0.025      0.975]\n",
      "------------------------------------------------------------------------------\n",
      "const         30.9787      0.999     31.006      0.000      29.016      32.942\n",
      "age           -0.1232      0.013     -9.137      0.000      -0.150      -0.097\n",
      "==============================================================================\n",
      "Omnibus:                      170.034   Durbin-Watson:                   0.613\n",
      "Prob(Omnibus):                  0.000   Jarque-Bera (JB):              456.983\n",
      "Skew:                           1.671   Prob(JB):                    5.85e-100\n",
      "Kurtosis:                       6.240   Cond. No.                         195.\n",
      "==============================================================================\n",
      "\n",
      "Notes:\n",
      "[1] Standard Errors assume that the covariance matrix of the errors is correctly specified.\n",
      "Residuals: count    5.060000e+02\n",
      "mean    -3.145486e-15\n",
      "std      8.518650e+00\n",
      "min     -1.509662e+01\n",
      "25%     -5.138002e+00\n",
      "50%     -1.957464e+00\n",
      "75%      2.397527e+00\n",
      "max      3.133759e+01\n",
      "dtype: float64\n"
     ]
    }
   ],
   "source": [
    "print_lr(age_mod_fit)"
   ]
  },
  {
   "cell_type": "markdown",
   "metadata": {
    "pycharm": {
     "name": "#%% md\n"
    }
   },
   "source": [
    "## Interprete the results\n",
    "### Regression results interpretation of `medv` - median house value\n",
    "Since the $R^{2}$ is calculated as $1 - \\frac{RSS}{TSS}$, it, in simple words, shows how well the residual of each point is different against the mean residual value.\n",
    "#### Against `lstat` - percent of households with low socioeconomic status\n",
    "The slope is negative meaning that the function is decreasing and that there is a negative correlation. The value of the slope is close to -1 which means the slope angle is close to -45 degrees. All statements are confirmed by the chart.\n",
    "\n",
    "The intercept equals approximately to 34.5 meaning the regression line is moved along the $y$ axis for 34 units, which is confirmed by the chart.\n",
    "\n",
    "The Pearson correlation coefficient is approximately -0.74. This means that there is a correlation between `lstat` and `medv`. According to the value of the coefficient, most of the sample set is going to be densely inside an elliptic shape, which is prolonged along the `x` axis and turned down (negative slope). This information also mostly (except for $x$ values between 0 and 10) conforms to the chart.\n",
    "\n",
    "The `p-value` is very small, which means there is a non-zero correlation between `lstat` and `medv`. So, the null-hypothesis that there is no correlation between `lstat` and `medv` has to be rejected.\n",
    "\n",
    "The $R^{2}$ is 0.544, which means that the value is not too large for the model to fit too well and $R^{2}$ is not close to 0 which would mean the lack of explanation of `medv` by `lstat`.\n",
    "\n",
    "So, according to $R^{2}$, there is a considerable degree of explanation between `medv` and `lstat`, but it is hard to tell if such value is good enough for this particular domain.\n",
    "\n",
    "### Against `rm` - average number of rooms per house\n",
    "The slope is positive meaning that the function is increasing and that there is a positive correlation. The value of the slope is 9.1 which means a steep positive slope. All statements are confirmed by the chart.\n",
    "\n",
    "The intercept equals approximately to -34 meaning the regression line is moved along the negative direction of $y$ axis for 34 units, which is hard to confirm by the chart, but it is plausible.\n",
    "\n",
    "The Pearson correlation coefficient is approximately 0.7. This means that there is a correlation between `rm` and `medv`. According to the value of the coefficient, most of the sample set is going to be densely inside an elliptic shape, which is prolonged along the `x` axis and turned up (positive slope). This information also mostly (except for $x$ values between 7.5 and 9) conforms to the chart.\n",
    "\n",
    "The `p-value` is very small, which means there is a non-zero correlation between `rm` and `medv`. So, the null-hypothesis that there is no correlation between `rm` and `medv` has to be rejected.\n",
    "\n",
    "The $R^{2}$ is 0.484, which means that the value is not too large for the model to fit too well and $R^{2}$ is not close to 0 which would mean the lack of explanation of `medv` by `rm`.\n",
    "\n",
    "So, according to $R^{2}$, there is a considerable degree of explanation between `medv` and `rm`, but it is hard to tell if such value is good enough for this particular domain.\n",
    "\n",
    "### Against `age` - average age of houses\n",
    "The slope is negative meaning that the function is increasing and that there is a negative correlation. All statements are confirmed by the chart.\n",
    "\n",
    "The intercept equals approximately to 31 meaning the regression line is moved along the $y$ axis for 31 units, which is confirmed by the chart.\n",
    "\n",
    "The Pearson correlation coefficient is approximately -0.377. This means that there is a correlation between `age` and `medv`. According to the value of the coefficient, most of the sample set is going to be not very densely inside an almost round elliptic shape, which is still slightly prolonged along the `x` axis and turned down (negative slope). It is hard to make similar conclusions from the chart.\n",
    "\n",
    "The `p-value` is very small, which means there is a non-zero correlation between `age` and `medv`. So, the null-hypothesis that there is no correlation between `age` and `medv` has to be rejected.\n",
    "\n",
    "The $R^{2}$ is 0.142, which means that the value is no strong explanation of `medv` by `age`.\n",
    "\n",
    "Overall, it is unclear if there is a relation between `age` and `medv`. Perhaps, if linear regression is the best way to describe this relation."
   ]
  },
  {
   "cell_type": "markdown",
   "metadata": {},
   "source": [
    "Obtain a confidence interval for the coefficient estimates for the indivisual models"
   ]
  },
  {
   "cell_type": "code",
   "execution_count": 43,
   "metadata": {
    "pycharm": {
     "name": "#%%\n"
    }
   },
   "outputs": [],
   "source": [
    "def confint(mod_fit, alpha=default_alpha):\n",
    "    return mod_fit.conf_int(alpha).rename(columns={0: f'{alpha * 50}%', 1: f'{100 - alpha * 50}%'})\n",
    "\n",
    "def describe_axes(x, y):\n",
    "    df = pd.concat([x, y], axis=1)\n",
    "    df = df.describe()\n",
    "    df.loc['max - min'] = df.loc['max'] - df.loc['min']\n",
    "    return df"
   ]
  },
  {
   "cell_type": "code",
   "execution_count": 44,
   "metadata": {
    "pycharm": {
     "name": "#%%\n"
    }
   },
   "outputs": [
    {
     "data": {
      "text/plain": "<IPython.core.display.Markdown object>",
      "text/markdown": "#### Linear Regression params:"
     },
     "metadata": {},
     "output_type": "display_data"
    },
    {
     "data": {
      "text/plain": "const    34.553841\nlstat    -0.950049\ndtype: float64"
     },
     "metadata": {},
     "output_type": "display_data"
    },
    {
     "data": {
      "text/plain": "<IPython.core.display.Markdown object>",
      "text/markdown": "#### Confidence Intervals:"
     },
     "metadata": {},
     "output_type": "display_data"
    },
    {
     "data": {
      "text/plain": "<IPython.core.display.Markdown object>",
      "text/markdown": "#### Axes Data Described:"
     },
     "metadata": {},
     "output_type": "display_data"
    }
   ],
   "source": [
    "display(Markdown('#### Linear Regression params:'), lstat_mod_fit.params)\n",
    "display(Markdown('#### Confidence Intervals:'), confint(lstat_mod_fit))\n",
    "display(Markdown('#### Axes Data Described:'), describe_axes(boston_df['lstat'], boston_df['medv']))"
   ]
  },
  {
   "cell_type": "code",
   "execution_count": 45,
   "metadata": {
    "pycharm": {
     "name": "#%%\n"
    }
   },
   "outputs": [
    {
     "data": {
      "text/plain": "<IPython.core.display.Markdown object>",
      "text/markdown": "#### Linear Regression params:"
     },
     "metadata": {},
     "output_type": "display_data"
    },
    {
     "data": {
      "text/plain": "const   -34.670621\nrm        9.102109\ndtype: float64"
     },
     "metadata": {},
     "output_type": "display_data"
    },
    {
     "data": {
      "text/plain": "<IPython.core.display.Markdown object>",
      "text/markdown": "#### Confidence Intervals:"
     },
     "metadata": {},
     "output_type": "display_data"
    },
    {
     "data": {
      "text/plain": "<IPython.core.display.Markdown object>",
      "text/markdown": "#### Axes Data Described:"
     },
     "metadata": {},
     "output_type": "display_data"
    }
   ],
   "source": [
    "display(Markdown('#### Linear Regression params:'), rm_mod_fit.params)\n",
    "display(Markdown('#### Confidence Intervals:'), confint(rm_mod_fit))\n",
    "display(Markdown('#### Axes Data Described:'), describe_axes(boston_df['rm'], boston_df['medv']))"
   ]
  },
  {
   "cell_type": "code",
   "execution_count": 46,
   "metadata": {
    "pycharm": {
     "name": "#%%\n"
    }
   },
   "outputs": [
    {
     "data": {
      "text/plain": "<IPython.core.display.Markdown object>",
      "text/markdown": "#### Linear Regression params:"
     },
     "metadata": {},
     "output_type": "display_data"
    },
    {
     "data": {
      "text/plain": "const    30.978678\nage      -0.123163\ndtype: float64"
     },
     "metadata": {},
     "output_type": "display_data"
    },
    {
     "data": {
      "text/plain": "<IPython.core.display.Markdown object>",
      "text/markdown": "#### Confidence Intervals:"
     },
     "metadata": {},
     "output_type": "display_data"
    },
    {
     "data": {
      "text/plain": "<IPython.core.display.Markdown object>",
      "text/markdown": "#### Axes Data Described:"
     },
     "metadata": {},
     "output_type": "display_data"
    }
   ],
   "source": [
    "display(Markdown('#### Linear Regression params:'), age_mod_fit.params)\n",
    "display(Markdown('#### Confidence Intervals:'), confint(age_mod_fit))\n",
    "display(Markdown('#### Axes Data Described:'), describe_axes(boston_df['age'], boston_df['medv']))"
   ]
  },
  {
   "cell_type": "markdown",
   "metadata": {},
   "source": [
    "## Interprete the results\n",
    "### Confidence interval interpretation of `medv` - median house value\n",
    "A confidence interval of 95% was used. This means 2 lines vertically symmetrical around a regression line (top and bottom 2.5% intervals).\n",
    "\n",
    "In order to make a conclusion about the confidence interval, it must be analysed against the Linear Regression parameters, taking into account the dataset characteristics.\n",
    "\n",
    "The difference between min (5) and max (50) for the dependent variable `medv` is 45.\n",
    "#### Against `lstat` - percent of households with low socioeconomic status\n",
    "The intervals for `lstat` are rather small: a bit larger than 2 for intercept and around 0.3 for slope.\n",
    "\n",
    "They can be considered small if compared against the difference between min (1.730000) and max (37.970000) values of `lstat` is 36.240000. Such behaviour can be explained by the fact that the points are tightly packed together, which can be seen from the chart.\n",
    "\n",
    "Surprisingly, the standard deviation is rather high and both mean and quantiles tell that the data is denser at the beginning of the `lstat` data interval.\n",
    "#### Against `rm` - average number of rooms per house\n",
    "The intervals for `rm` are:\n",
    "- relatively large for intercept - around 10;\n",
    "- relatively average for slope - around 1.7.\n",
    "\n",
    "They can be considered large if compared against the difference between min (3.561000) and max (8.780000) values of `rm` is 5.219000. Such behaviour can be explained by a large number of outliers. A not small standard deviation confirms this.\n",
    "#### Against `age` - average age of houses\n",
    "The intervals for `age` are rather small: a bit larger than 3 for intercept and around 0.05 for slope.\n",
    "\n",
    "They can be considered small if compared against the difference between min (2.900000) and max (100.000000) values of `age` is 97.100000. Such behaviour can be explained by the fact that the points are tightly packed together near the end of the age interval, which can be seen from the chart.\n",
    "\n",
    "Surprisingly, the standard deviation is rather high which can be partially explained by uneven dispensation of points around the $x$ axis."
   ]
  },
  {
   "cell_type": "markdown",
   "metadata": {},
   "source": [
    "## 1.2.3 Use the simple linear regression models\n",
    "\n",
    "Predict the `medv` response values for some selected predictor values. Calculate the prediction intervals for these values."
   ]
  },
  {
   "cell_type": "code",
   "execution_count": 47,
   "metadata": {
    "pycharm": {
     "name": "#%%\n"
    }
   },
   "outputs": [],
   "source": [
    "def predict_with_pi(mod_fit, x, alpha=default_alpha, xlab='x', ylab='y'):\n",
    "    X = sm.add_constant(x)# if isinstance(x, pd.Series) else x\n",
    "    # if len(X.columns) > 1:\n",
    "    #     X = X.transpose()\n",
    "    regr = mod_fit.predict(X)\n",
    "    regr_info = mod_fit.get_prediction(X).summary_frame(alpha=alpha)\n",
    "\n",
    "    if isinstance(x, pd.DataFrame) and len(x.columns) > 1:\n",
    "        xlab = '+'.join(x.columns)\n",
    "        x = x.apply(lambda r: '; '.join(str(v) for v in r), axis=1, result_type='reduce').squeeze()\n",
    "    df = pd.concat([pd.Series(x), pd.Series(regr), regr_info.obs_ci_lower, regr_info.obs_ci_upper], axis=1, keys=[xlab, ylab, ylab + '_lwr', ylab + '_upr'])\n",
    "    df.set_index(xlab, inplace=True)\n",
    "    return df"
   ]
  },
  {
   "cell_type": "code",
   "execution_count": 48,
   "metadata": {
    "pycharm": {
     "name": "#%%\n"
    }
   },
   "outputs": [
    {
     "data": {
      "text/plain": "<IPython.core.display.Markdown object>",
      "text/markdown": "#### Prediction:"
     },
     "metadata": {},
     "output_type": "display_data"
    },
    {
     "data": {
      "text/plain": "<IPython.core.display.Markdown object>",
      "text/markdown": "#### Axes Data Described:"
     },
     "metadata": {},
     "output_type": "display_data"
    }
   ],
   "source": [
    "display(Markdown('#### Prediction:'), predict_with_pi(lstat_mod_fit, (5, 10, 15), xlab='lstat', ylab='medv'))\n",
    "display(Markdown('#### Axes Data Described:'), describe_axes(boston_df['lstat'], boston_df['medv']))"
   ]
  },
  {
   "cell_type": "code",
   "execution_count": 49,
   "metadata": {
    "pycharm": {
     "name": "#%%\n"
    }
   },
   "outputs": [
    {
     "data": {
      "text/plain": "<IPython.core.display.Markdown object>",
      "text/markdown": "#### Prediction:"
     },
     "metadata": {},
     "output_type": "display_data"
    },
    {
     "data": {
      "text/plain": "<IPython.core.display.Markdown object>",
      "text/markdown": "#### Axes Data Described:"
     },
     "metadata": {},
     "output_type": "display_data"
    }
   ],
   "source": [
    "display(Markdown('#### Prediction:'), predict_with_pi(rm_mod_fit, (5, 6.5, 8), xlab='rm', ylab='medv'))\n",
    "display(Markdown('#### Axes Data Described:'), describe_axes(boston_df['rm'], boston_df['medv']))"
   ]
  },
  {
   "cell_type": "code",
   "execution_count": 50,
   "metadata": {
    "pycharm": {
     "name": "#%%\n"
    }
   },
   "outputs": [
    {
     "data": {
      "text/plain": "<IPython.core.display.Markdown object>",
      "text/markdown": "#### Prediction:"
     },
     "metadata": {},
     "output_type": "display_data"
    },
    {
     "data": {
      "text/plain": "<IPython.core.display.Markdown object>",
      "text/markdown": "#### Axes Data Described:"
     },
     "metadata": {},
     "output_type": "display_data"
    }
   ],
   "source": [
    "display(Markdown('#### Prediction:'), predict_with_pi(age_mod_fit, (25, 50, 75), xlab='age', ylab='medv'))\n",
    "display(Markdown('#### Axes Data Described:'), describe_axes(boston_df['age'], boston_df['medv']))"
   ]
  },
  {
   "cell_type": "markdown",
   "metadata": {},
   "source": [
    "## Interprete the results\n",
    "### Prediction interval interpretation of `medv` - median house value\n",
    "The significance level (alpha) is 95%. By definition, the prediction interval shows the range in which the values for the given independent variable will be with alpha (95%) level of certainty.\n",
    "\n",
    "To draw conclusions from the prediction intervals, the prediction intervals have to be compared against the training data, specifically minimum and maximum values.\n",
    "#### Against `lstat` - percent of households with low socioeconomic status\n",
    "The prediction interval for `lstat` is large, around 24.5 for all 3 values. It is more than half a range of `medv` values, according to the analysis of the axes. It means there is a high dispersion of the dependent variable values for close independent variable values.\n",
    "#### Against `rm` - average number of rooms per house\n",
    "The prediction interval for `rm` is large, around 26.3 for all 3 values. It is more than half a range of `medv` values, according to the analysis of the axes. It means there is a high dispersion of the dependent variable values for close independent variable values.\n",
    "#### Against `age` - average age of houses\n",
    "The prediction interval for `age` is large, around 33.4 for all 3 values. It is more than half a range of `medv` values, according to the analysis of the axes. It means there is a high dispersion of the dependent variable values for close independent variable values."
   ]
  },
  {
   "cell_type": "markdown",
   "metadata": {},
   "source": [
    "## 1.2.4 Perform multiple linear regressions\n",
    "Fit `medv` as response with the predictors selected before altogether."
   ]
  },
  {
   "cell_type": "code",
   "execution_count": 51,
   "metadata": {
    "pycharm": {
     "name": "#%%\n"
    }
   },
   "outputs": [
    {
     "name": "stdout",
     "output_type": "stream",
     "text": [
      "                            OLS Regression Results                            \n",
      "==============================================================================\n",
      "Dep. Variable:                   medv   R-squared:                       0.639\n",
      "Model:                            OLS   Adj. R-squared:                  0.637\n",
      "Method:                 Least Squares   F-statistic:                     296.2\n",
      "Date:                Mon, 21 Feb 2022   Prob (F-statistic):          1.20e-110\n",
      "Time:                        12:28:56   Log-Likelihood:                -1582.4\n",
      "No. Observations:                 506   AIC:                             3173.\n",
      "Df Residuals:                     502   BIC:                             3190.\n",
      "Df Model:                           3                                         \n",
      "Covariance Type:            nonrobust                                         \n",
      "==============================================================================\n",
      "                 coef    std err          t      P>|t|      [0.025      0.975]\n",
      "------------------------------------------------------------------------------\n",
      "Intercept     -1.1753      3.182     -0.369      0.712      -7.427       5.076\n",
      "lstat         -0.6685      0.054    -12.298      0.000      -0.775      -0.562\n",
      "rm             5.0191      0.454     11.048      0.000       4.127       5.912\n",
      "age            0.0091      0.011      0.811      0.418      -0.013       0.031\n",
      "==============================================================================\n",
      "Omnibus:                      138.819   Durbin-Watson:                   0.851\n",
      "Prob(Omnibus):                  0.000   Jarque-Bera (JB):              415.436\n",
      "Skew:                           1.296   Prob(JB):                     6.15e-91\n",
      "Kurtosis:                       6.603   Cond. No.                         985.\n",
      "==============================================================================\n",
      "\n",
      "Notes:\n",
      "[1] Standard Errors assume that the covariance matrix of the errors is correctly specified.\n",
      "Residuals: count    5.060000e+02\n",
      "mean    -2.920808e-15\n",
      "std      5.525660e+00\n",
      "min     -1.820992e+01\n",
      "25%     -3.467402e+00\n",
      "50%     -1.053282e+00\n",
      "75%      1.957443e+00\n",
      "max      2.750044e+01\n",
      "dtype: float64\n"
     ]
    }
   ],
   "source": [
    "multi_mod_fit = ols('medv~lstat+rm+age', boston_df).fit()\n",
    "print_lr(multi_mod_fit)"
   ]
  },
  {
   "cell_type": "markdown",
   "metadata": {},
   "source": [
    "#### Interprete the results.\n",
    "Firstly, the $p\\:values$ for all independent variables show that `lstat` and `rm` variables are significant (`P>|t|` is 0 meaning there is a 0 probability that the null hypothesis about lack of correlation can be rejected).\n",
    "\n",
    "The `age` variable, on the other hand, has a high $p\\:value$. This means that this variable is insignificant, and it can be safely removed.\n",
    "\n",
    "Also, intercept also has a high $p\\:value$, which means the current intercept might not be a right value, the regression line might have to move along the $y$ axis.\n",
    "\n",
    "Taking everything into consideration, there might be a correlation between the variables, which can have an adverse effect on the precision of the linear regression model."
   ]
  },
  {
   "cell_type": "markdown",
   "metadata": {},
   "source": [
    "## Fit `medv` as response with all available predictors altogether."
   ]
  },
  {
   "cell_type": "code",
   "execution_count": 52,
   "metadata": {
    "pycharm": {
     "name": "#%%\n"
    }
   },
   "outputs": [
    {
     "name": "stdout",
     "output_type": "stream",
     "text": [
      "                            OLS Regression Results                            \n",
      "==============================================================================\n",
      "Dep. Variable:                   medv   R-squared:                       0.741\n",
      "Model:                            OLS   Adj. R-squared:                  0.734\n",
      "Method:                 Least Squares   F-statistic:                     108.1\n",
      "Date:                Mon, 21 Feb 2022   Prob (F-statistic):          6.72e-135\n",
      "Time:                        12:28:57   Log-Likelihood:                -1498.8\n",
      "No. Observations:                 506   AIC:                             3026.\n",
      "Df Residuals:                     492   BIC:                             3085.\n",
      "Df Model:                          13                                         \n",
      "Covariance Type:            nonrobust                                         \n",
      "==============================================================================\n",
      "                 coef    std err          t      P>|t|      [0.025      0.975]\n",
      "------------------------------------------------------------------------------\n",
      "Intercept     36.4595      5.103      7.144      0.000      26.432      46.487\n",
      "crim          -0.1080      0.033     -3.287      0.001      -0.173      -0.043\n",
      "zn             0.0464      0.014      3.382      0.001       0.019       0.073\n",
      "indus          0.0206      0.061      0.334      0.738      -0.100       0.141\n",
      "chas           2.6867      0.862      3.118      0.002       0.994       4.380\n",
      "nox          -17.7666      3.820     -4.651      0.000     -25.272     -10.262\n",
      "rm             3.8099      0.418      9.116      0.000       2.989       4.631\n",
      "age            0.0007      0.013      0.052      0.958      -0.025       0.027\n",
      "dis           -1.4756      0.199     -7.398      0.000      -1.867      -1.084\n",
      "rad            0.3060      0.066      4.613      0.000       0.176       0.436\n",
      "tax           -0.0123      0.004     -3.280      0.001      -0.020      -0.005\n",
      "ptratio       -0.9527      0.131     -7.283      0.000      -1.210      -0.696\n",
      "black          0.0093      0.003      3.467      0.001       0.004       0.015\n",
      "lstat         -0.5248      0.051    -10.347      0.000      -0.624      -0.425\n",
      "==============================================================================\n",
      "Omnibus:                      178.041   Durbin-Watson:                   1.078\n",
      "Prob(Omnibus):                  0.000   Jarque-Bera (JB):              783.126\n",
      "Skew:                           1.521   Prob(JB):                    8.84e-171\n",
      "Kurtosis:                       8.281   Cond. No.                     1.51e+04\n",
      "==============================================================================\n",
      "\n",
      "Notes:\n",
      "[1] Standard Errors assume that the covariance matrix of the errors is correctly specified.\n",
      "[2] The condition number is large, 1.51e+04. This might indicate that there are\n",
      "strong multicollinearity or other numerical problems.\n",
      "Residuals: count    5.060000e+02\n",
      "mean     7.372232e-15\n",
      "std      4.683822e+00\n",
      "min     -1.559447e+01\n",
      "25%     -2.729716e+00\n",
      "50%     -5.180489e-01\n",
      "75%      1.777051e+00\n",
      "max      2.619927e+01\n",
      "dtype: float64\n"
     ]
    }
   ],
   "source": [
    "all_mod_fit = ols('medv~' + '+'.join(c for c in boston_df.columns if c != 'medv'), boston_df).fit()\n",
    "print_lr(all_mod_fit)"
   ]
  },
  {
   "cell_type": "markdown",
   "metadata": {},
   "source": [
    "## Interprete the results.\n",
    "Only variables which have $p\\:value<0.05$ can be considered significant (the null hypothesis about lack of correlation between the independent and dependent variables can be rejected).\n",
    "\n",
    "According to the linear regression model summary and $p\\:values$ of the variables, all variables, except `indus` and `age` are significant. There might also be a correlation between the independent variables, which might adversely affect the precision of the model."
   ]
  },
  {
   "cell_type": "markdown",
   "metadata": {},
   "source": [
    "## Check the correlation between the predictors."
   ]
  },
  {
   "cell_type": "code",
   "execution_count": 53,
   "metadata": {
    "pycharm": {
     "name": "#%%\n"
    }
   },
   "outputs": [],
   "source": [
    "def corrmat(df, ylab, render=display):\n",
    "    \"\"\"Does not do symbol-coded chart.\"\"\"\n",
    "    def pearsonr_pval(x,y):\n",
    "        return scipy.stats.pearsonr(x,y)[1]\n",
    "    df = df.drop(ylab, axis=1)\n",
    "    render(Markdown('Pearson:'))\n",
    "    corr = df.corr(method='pearson')\n",
    "    render(corr)\n",
    "    render(Markdown('P values:'))\n",
    "    render(df.corr(method=pearsonr_pval))\n",
    "    render(Markdown('Pearson (chart):'))\n",
    "    fig, ax = plt.subplots(figsize=default_figsize)\n",
    "    sns.heatmap(corr.round(2), ax=ax, annot=True, vmax=1, vmin=-1, center=0, cmap='vlag')\n",
    "    plt.show()\n"
   ]
  },
  {
   "cell_type": "code",
   "execution_count": 54,
   "metadata": {
    "pycharm": {
     "name": "#%%\n"
    }
   },
   "outputs": [
    {
     "data": {
      "text/plain": "<IPython.core.display.Markdown object>",
      "text/markdown": "Pearson:"
     },
     "metadata": {},
     "output_type": "display_data"
    },
    {
     "data": {
      "text/plain": "<IPython.core.display.Markdown object>",
      "text/markdown": "P values:"
     },
     "metadata": {},
     "output_type": "display_data"
    },
    {
     "data": {
      "text/plain": "<IPython.core.display.Markdown object>",
      "text/markdown": "Pearson (chart):"
     },
     "metadata": {},
     "output_type": "display_data"
    }
   ],
   "source": [
    "corrmat(boston_df, 'medv')"
   ]
  },
  {
   "cell_type": "markdown",
   "metadata": {},
   "source": [
    "## Interprete the results.\n",
    "\n",
    "It is obvious that the linear regression model is impaired due to strong correlation between the variables.\n",
    "\n",
    "The weakest correlation is between `chas` and other variables. The strongest correlation is between `tax` and `rad` (positive). Other strong correlations include:\n",
    "- positive: `indus` & `nox`, `indus` & `tax`, `nox` & `age`;\n",
    "- negative: `indus` & `dis`, `nox` & `dis`, `age` & `dis`;\n",
    "\n",
    "It has to be noted that the `age` variable has strong correlation with other variables, which confirms the large $p\\:value$ for age during the Linear Regression `medv~lstat+rm+age` (see the interpretation above)."
   ]
  },
  {
   "cell_type": "markdown",
   "metadata": {},
   "source": [
    "## 1.2.5 Use the multiple linear regression model\n",
    "Predict the `medv` response values for some selected predictor values. Calculate the prediction intervals for these values."
   ]
  },
  {
   "cell_type": "code",
   "execution_count": 55,
   "metadata": {
    "pycharm": {
     "name": "#%%\n"
    }
   },
   "outputs": [
    {
     "data": {
      "text/plain": "<IPython.core.display.Markdown object>",
      "text/markdown": "#### Prediction:"
     },
     "metadata": {},
     "output_type": "display_data"
    },
    {
     "data": {
      "text/plain": "<IPython.core.display.Markdown object>",
      "text/markdown": "#### Axes Data Described:"
     },
     "metadata": {},
     "output_type": "display_data"
    }
   ],
   "source": [
    "lstat_x=pd.Series((5,10,15), name='lstat')\n",
    "rm_x=pd.Series((5,6.5,8), name='rm')\n",
    "X = pd.merge(lstat_x, rm_x, how='cross')\n",
    "\n",
    "lstat_rm_mod_fit = ols('medv~lstat+rm', boston_df).fit()\n",
    "display(Markdown('#### Prediction:'), predict_with_pi(lstat_rm_mod_fit, X, ylab='medv'))\n",
    "display(Markdown('#### Axes Data Described:'), describe_axes(boston_df[['lstat', 'rm']], boston_df['medv']))"
   ]
  },
  {
   "cell_type": "markdown",
   "metadata": {
    "pycharm": {
     "name": "#%% md\n"
    }
   },
   "source": [
    "## Interprete the results.\n",
    "\n",
    "The regression results with prediction interval have to be analyzed together with the data about the `medv` axis.\n",
    "\n",
    "The prediction interval is around 21 - 22 which is less than it was for single-variable linear regression. This means that multiple-variable linear regression makes more sense in this context since the prediction by the single linear regression had slightly larger intervals."
   ]
  },
  {
   "cell_type": "markdown",
   "source": [
    "# 1.3 Steps of Assignment 3 in detail\n",
    "\n",
    "Check again the accuracy of the linear regression."
   ],
   "metadata": {
    "collapsed": false
   }
  },
  {
   "cell_type": "code",
   "execution_count": 56,
   "outputs": [
    {
     "name": "stdout",
     "output_type": "stream",
     "text": [
      "                            OLS Regression Results                            \n",
      "==============================================================================\n",
      "Dep. Variable:                   medv   R-squared:                       0.708\n",
      "Model:                            OLS   Adj. R-squared:                  0.705\n",
      "Method:                 Least Squares   F-statistic:                     242.6\n",
      "Date:                Mon, 21 Feb 2022   Prob (F-statistic):          3.67e-131\n",
      "Time:                        12:28:57   Log-Likelihood:                -1528.7\n",
      "No. Observations:                 506   AIC:                             3069.\n",
      "Df Residuals:                     500   BIC:                             3095.\n",
      "Df Model:                           5                                         \n",
      "Covariance Type:            nonrobust                                         \n",
      "==============================================================================\n",
      "                 coef    std err          t      P>|t|      [0.025      0.975]\n",
      "------------------------------------------------------------------------------\n",
      "Intercept     37.4992      4.613      8.129      0.000      28.436      46.562\n",
      "lstat         -0.5811      0.048    -12.122      0.000      -0.675      -0.487\n",
      "rm             4.1633      0.412     10.104      0.000       3.354       4.973\n",
      "nox          -17.9966      3.261     -5.519      0.000     -24.403     -11.590\n",
      "dis           -1.1847      0.168     -7.034      0.000      -1.516      -0.854\n",
      "ptratio       -1.0458      0.114     -9.212      0.000      -1.269      -0.823\n",
      "==============================================================================\n",
      "Omnibus:                      187.456   Durbin-Watson:                   0.971\n",
      "Prob(Omnibus):                  0.000   Jarque-Bera (JB):              885.498\n",
      "Skew:                           1.584   Prob(JB):                    5.21e-193\n",
      "Kurtosis:                       8.654   Cond. No.                         545.\n",
      "==============================================================================\n",
      "\n",
      "Notes:\n",
      "[1] Standard Errors assume that the covariance matrix of the errors is correctly specified.\n",
      "Residuals: count    5.060000e+02\n",
      "mean    -1.346661e-13\n",
      "std      4.969081e+00\n",
      "min     -1.277651e+01\n",
      "25%     -3.018557e+00\n",
      "50%     -6.480976e-01\n",
      "75%      1.975195e+00\n",
      "max      2.776253e+01\n",
      "dtype: float64\n"
     ]
    }
   ],
   "source": [
    "multi2_mod_fit = ols('medv ~ lstat+rm+nox+dis+ptratio', boston_df).fit()\n",
    "print_lr(multi2_mod_fit)"
   ],
   "metadata": {
    "collapsed": false,
    "pycharm": {
     "name": "#%%\n"
    }
   }
  },
  {
   "cell_type": "markdown",
   "source": [
    "## 1.3.1 Add interaction terms\n",
    "Fit a model with interaction terms. Don’t forget to also include the plain predictors.\n",
    "> Assuming `lstat*rm` has the same meaning in Python, since the used API is called [\"Using R-style formulas\"](https://www.statsmodels.org/dev/example_formulas.html).\n",
    "> The regression coefficients match with the assignment."
   ],
   "metadata": {
    "collapsed": false
   }
  },
  {
   "cell_type": "code",
   "execution_count": 57,
   "outputs": [
    {
     "name": "stdout",
     "output_type": "stream",
     "text": [
      "                            OLS Regression Results                            \n",
      "==============================================================================\n",
      "Dep. Variable:                   medv   R-squared:                       0.778\n",
      "Model:                            OLS   Adj. R-squared:                  0.775\n",
      "Method:                 Least Squares   F-statistic:                     290.8\n",
      "Date:                Mon, 21 Feb 2022   Prob (F-statistic):          2.48e-159\n",
      "Time:                        12:28:57   Log-Likelihood:                -1459.9\n",
      "No. Observations:                 506   AIC:                             2934.\n",
      "Df Residuals:                     499   BIC:                             2963.\n",
      "Df Model:                           6                                         \n",
      "Covariance Type:            nonrobust                                         \n",
      "==============================================================================\n",
      "                 coef    std err          t      P>|t|      [0.025      0.975]\n",
      "------------------------------------------------------------------------------\n",
      "Intercept      3.1518      4.880      0.646      0.519      -6.435      12.739\n",
      "lstat          1.8115      0.196      9.237      0.000       1.426       2.197\n",
      "rm             8.3344      0.491     16.971      0.000       7.370       9.299\n",
      "lstat:rm      -0.4185      0.034    -12.488      0.000      -0.484      -0.353\n",
      "nox          -12.3651      2.885     -4.286      0.000     -18.033      -6.697\n",
      "dis           -1.0184      0.148     -6.893      0.000      -1.309      -0.728\n",
      "ptratio       -0.7152      0.103     -6.967      0.000      -0.917      -0.514\n",
      "==============================================================================\n",
      "Omnibus:                      246.928   Durbin-Watson:                   1.079\n",
      "Prob(Omnibus):                  0.000   Jarque-Bera (JB):             2792.613\n",
      "Skew:                           1.836   Prob(JB):                         0.00\n",
      "Kurtosis:                      13.908   Cond. No.                     2.36e+03\n",
      "==============================================================================\n",
      "\n",
      "Notes:\n",
      "[1] Standard Errors assume that the covariance matrix of the errors is correctly specified.\n",
      "[2] The condition number is large, 2.36e+03. This might indicate that there are\n",
      "strong multicollinearity or other numerical problems.\n",
      "Residuals: count    5.060000e+02\n",
      "mean     1.258475e-13\n",
      "std      4.337354e+00\n",
      "min     -1.930609e+01\n",
      "25%     -2.472038e+00\n",
      "50%     -3.606848e-01\n",
      "75%      1.819178e+00\n",
      "max      2.990857e+01\n",
      "dtype: float64\n"
     ]
    }
   ],
   "source": [
    "inter_mod_fit = ols('medv~lstat*rm+nox+dis+ptratio', boston_df).fit()\n",
    "print_lr(inter_mod_fit)"
   ],
   "metadata": {
    "collapsed": false,
    "pycharm": {
     "name": "#%%\n"
    }
   }
  },
  {
   "cell_type": "markdown",
   "source": [
    "## Interpret the results.\n",
    "### Interpreting regression of `medv ~ lstat+rm+nox+dis+ptratio`.\n",
    "The Ordinary Least Squares (OLS) regression without interaction terms has very good metrics. The residual plots are not analysed, but event residuals' mean and quantiles look not very large meaning that the model is relatively good.\n",
    "\n",
    "Both $R^2$ and $R^2\\:adjusted$ are around 0.7 which is a good enough result for an OLS regression model. The probability of the F-statistic is very close to 0 meaning that the slope coefficients are meaningful and are different from 0.\n",
    "\n",
    "$p\\:values$ for all the coefficients, including intercept, are 0, which means there is a correlation between the independent variables and dependent variable. The Standard Errors for coefficients do not seem too large.\n",
    "### Interpreting regression of `medv~lstat*rm+nox+dis+ptratio`.\n",
    "After introducing interaction terms, the OLS regression model results changed slightly.\n",
    "\n",
    "Most of the metrics are the same. However, 3 things are different:\n",
    "- both $R^2$ and $R^2\\:adjusted$ are now closer to 0.8, which means a better explanation of `medv` by new independent variables and term.\n",
    "- $p\\:value$ of the intercept is now larger than the significance level which means uncertainty of location of the regression line along the `medv` axis.\n",
    "- the absolute values of residuals' mean and quantiles seem to slightly decrease. It might be a good sign also.\n",
    "\n",
    "Overall, the model with interaction terms seems to be slightly better than the previous one because $R^2$ and residuals can be considered more important than $p\\:value$ of the intercept. However, it is still arguable that the new model is definitely better."
   ],
   "metadata": {
    "collapsed": false
   }
  },
  {
   "cell_type": "markdown",
   "source": [
    "## 1.4 Apply non-linear transformations to some predictors\n",
    "Fit a model with non-linear transformations of the predictor terms. Don’t forget to also include the plain predictors.\n",
    "> The R formula is `medv~lstat*rm+I((lstat*rm)^2)+nox+dis+ptratio`. The operator `^` is replaced with `**` to accommodate Python syntax. So, the equivalent Python formula is `medv~lstat*rm+I((lstat*rm)**2)+nox+dis+ptratio`."
   ],
   "metadata": {
    "collapsed": false
   }
  },
  {
   "cell_type": "code",
   "execution_count": 63,
   "outputs": [
    {
     "name": "stdout",
     "output_type": "stream",
     "text": [
      "                            OLS Regression Results                            \n",
      "==============================================================================\n",
      "Dep. Variable:                   medv   R-squared:                       0.781\n",
      "Model:                            OLS   Adj. R-squared:                  0.778\n",
      "Method:                 Least Squares   F-statistic:                     253.9\n",
      "Date:                Mon, 21 Feb 2022   Prob (F-statistic):          8.05e-160\n",
      "Time:                        12:55:26   Log-Likelihood:                -1455.8\n",
      "No. Observations:                 506   AIC:                             2928.\n",
      "Df Residuals:                     498   BIC:                             2961.\n",
      "Df Model:                           7                                         \n",
      "Covariance Type:            nonrobust                                         \n",
      "========================================================================================\n",
      "                           coef    std err          t      P>|t|      [0.025      0.975]\n",
      "----------------------------------------------------------------------------------------\n",
      "Intercept               10.5522      5.499      1.919      0.056      -0.253      21.357\n",
      "lstat                    1.5468      0.216      7.167      0.000       1.123       1.971\n",
      "rm                       7.6004      0.552     13.777      0.000       6.516       8.684\n",
      "lstat:rm                -0.4468      0.035    -12.864      0.000      -0.515      -0.379\n",
      "I((lstat * rm) ** 2)     0.0004      0.000      2.845      0.005       0.000       0.001\n",
      "nox                    -12.2898      2.865     -4.290      0.000     -17.918      -6.662\n",
      "dis                     -1.0641      0.148     -7.209      0.000      -1.354      -0.774\n",
      "ptratio                 -0.7112      0.102     -6.977      0.000      -0.912      -0.511\n",
      "==============================================================================\n",
      "Omnibus:                      217.415   Durbin-Watson:                   1.059\n",
      "Prob(Omnibus):                  0.000   Jarque-Bera (JB):             2007.945\n",
      "Skew:                           1.622   Prob(JB):                         0.00\n",
      "Kurtosis:                      12.204   Cond. No.                     3.02e+05\n",
      "==============================================================================\n",
      "\n",
      "Notes:\n",
      "[1] Standard Errors assume that the covariance matrix of the errors is correctly specified.\n",
      "[2] The condition number is large, 3.02e+05. This might indicate that there are\n",
      "strong multicollinearity or other numerical problems.\n",
      "Residuals: count    5.060000e+02\n",
      "mean    -2.398629e-12\n",
      "std      4.302529e+00\n",
      "min     -1.841490e+01\n",
      "25%     -2.433926e+00\n",
      "50%     -2.956008e-01\n",
      "75%      1.942593e+00\n",
      "max      2.731066e+01\n",
      "dtype: float64\n"
     ]
    }
   ],
   "source": [
    "nonlin_mod_fit = ols('medv~lstat*rm+I((lstat*rm)**2)+nox+dis+ptratio', boston_df).fit()\n",
    "print_lr(nonlin_mod_fit)"
   ],
   "metadata": {
    "collapsed": false,
    "pycharm": {
     "name": "#%%\n"
    }
   }
  },
  {
   "cell_type": "code",
   "execution_count": null,
   "outputs": [],
   "source": [],
   "metadata": {
    "collapsed": false,
    "pycharm": {
     "name": "#%%\n"
    }
   }
  }
 ],
 "metadata": {
  "kernelspec": {
   "display_name": "Python 3 (ipykernel)",
   "language": "python",
   "name": "python3"
  },
  "language_info": {
   "codemirror_mode": {
    "name": "ipython",
    "version": 3
   },
   "file_extension": ".py",
   "mimetype": "text/x-python",
   "name": "python",
   "nbconvert_exporter": "python",
   "pygments_lexer": "ipython3",
   "version": "3.8.10"
  }
 },
 "nbformat": 4,
 "nbformat_minor": 1
}